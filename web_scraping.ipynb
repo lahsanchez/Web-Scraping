{
  "nbformat": 4,
  "nbformat_minor": 0,
  "metadata": {
    "colab": {
      "name": "web_scraping.ipynb",
      "provenance": []
    },
    "kernelspec": {
      "name": "python3",
      "display_name": "Python 3"
    },
    "language_info": {
      "name": "python"
    }
  },
  "cells": [
    {
      "cell_type": "markdown",
      "metadata": {
        "id": "GG4X5scx59F4"
      },
      "source": [
        "**Desenvolva um crawler que obtenha os dados de menu localizado no topo da lateral esquerda (vide figura no PDF) e exiba os dados no formato de uma lista.**"
      ]
    },
    {
      "cell_type": "code",
      "metadata": {
        "colab": {
          "base_uri": "https://localhost:8080/"
        },
        "id": "0A_63TGu3bXE",
        "outputId": "38c2ba94-7eb3-4bd8-da8d-773c2b07bd5f"
      },
      "source": [
        "!pip3 install html5lib\n",
        "!pip3 install beautifulsoup4\n",
        "!pip3 install requests"
      ],
      "execution_count": 1,
      "outputs": [
        {
          "output_type": "stream",
          "text": [
            "Requirement already satisfied: html5lib in /usr/local/lib/python3.7/dist-packages (1.0.1)\n",
            "Requirement already satisfied: webencodings in /usr/local/lib/python3.7/dist-packages (from html5lib) (0.5.1)\n",
            "Requirement already satisfied: six>=1.9 in /usr/local/lib/python3.7/dist-packages (from html5lib) (1.15.0)\n",
            "Requirement already satisfied: beautifulsoup4 in /usr/local/lib/python3.7/dist-packages (4.6.3)\n",
            "Requirement already satisfied: requests in /usr/local/lib/python3.7/dist-packages (2.23.0)\n",
            "Requirement already satisfied: chardet<4,>=3.0.2 in /usr/local/lib/python3.7/dist-packages (from requests) (3.0.4)\n",
            "Requirement already satisfied: urllib3!=1.25.0,!=1.25.1,<1.26,>=1.21.1 in /usr/local/lib/python3.7/dist-packages (from requests) (1.24.3)\n",
            "Requirement already satisfied: idna<3,>=2.5 in /usr/local/lib/python3.7/dist-packages (from requests) (2.10)\n",
            "Requirement already satisfied: certifi>=2017.4.17 in /usr/local/lib/python3.7/dist-packages (from requests) (2020.12.5)\n"
          ],
          "name": "stdout"
        }
      ]
    },
    {
      "cell_type": "code",
      "metadata": {
        "id": "uFz0l8t13qRW"
      },
      "source": [
        "import re"
      ],
      "execution_count": 2,
      "outputs": []
    },
    {
      "cell_type": "code",
      "metadata": {
        "colab": {
          "base_uri": "https://localhost:8080/"
        },
        "id": "qll27NfR3t9g",
        "outputId": "128ea449-7811-4ffe-8fc0-d1a3a3d0e9a8"
      },
      "source": [
        "from bs4 import BeautifulSoup\n",
        "import requests\n",
        "\n",
        "html = requests.get(\"https://en.wikipedia.org/wiki/Wikipedia:Contents\").text\n",
        "soup = BeautifulSoup(html, 'html5lib')\n",
        "\n",
        "dados = [soup.find(id=re.compile(\"n-mainpage-description\")),\n",
        "         soup.find(id=re.compile(\"n-contents\")),\n",
        "         soup.find(id=re.compile(\"n-currentevents\")),\n",
        "         soup.find(id=re.compile(\"n-randompage\")),\n",
        "         soup.find(id=re.compile(\"n-aboutsite\")),\n",
        "         soup.find(id=re.compile(\"n-contactpage\")),\n",
        "         soup.find(id=re.compile(\"n-sitesupport\"))]\n",
        "\n",
        "for i in dados:\n",
        "  print(\"[\", i, \"]\\n\")"
      ],
      "execution_count": 4,
      "outputs": [
        {
          "output_type": "stream",
          "text": [
            "[ <li id=\"n-mainpage-description\"><a accesskey=\"z\" href=\"/wiki/Main_Page\" title=\"Visit the main page [z]\">Main page</a></li> ]\n",
            "\n",
            "[ <li id=\"n-contents\"><a href=\"/wiki/Wikipedia:Contents\" title=\"Guides to browsing Wikipedia\">Contents</a></li> ]\n",
            "\n",
            "[ <li id=\"n-currentevents\"><a href=\"/wiki/Portal:Current_events\" title=\"Articles related to current events\">Current events</a></li> ]\n",
            "\n",
            "[ <li id=\"n-randompage\"><a accesskey=\"x\" href=\"/wiki/Special:Random\" title=\"Visit a randomly selected article [x]\">Random article</a></li> ]\n",
            "\n",
            "[ <li id=\"n-aboutsite\"><a href=\"/wiki/Wikipedia:About\" title=\"Learn about Wikipedia and how it works\">About Wikipedia</a></li> ]\n",
            "\n",
            "[ <li id=\"n-contactpage\"><a href=\"//en.wikipedia.org/wiki/Wikipedia:Contact_us\" title=\"How to contact Wikipedia\">Contact us</a></li> ]\n",
            "\n",
            "[ <li id=\"n-sitesupport\"><a href=\"https://donate.wikimedia.org/wiki/Special:FundraiserRedirector?utm_source=donate&amp;utm_medium=sidebar&amp;utm_campaign=C13_en.wikipedia.org&amp;uselang=en\" title=\"Support us by donating to the Wikimedia Foundation\">Donate</a></li> ]\n",
            "\n"
          ],
          "name": "stdout"
        }
      ]
    }
  ]
}